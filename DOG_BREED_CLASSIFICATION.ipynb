{
  "nbformat": 4,
  "nbformat_minor": 0,
  "metadata": {
    "colab": {
      "provenance": [],
      "authorship_tag": "ABX9TyOzGrPc44reqalPXXVjlDXz",
      "include_colab_link": true
    },
    "kernelspec": {
      "name": "python3",
      "display_name": "Python 3"
    },
    "language_info": {
      "name": "python"
    }
  },
  "cells": [
    {
      "cell_type": "markdown",
      "metadata": {
        "id": "view-in-github",
        "colab_type": "text"
      },
      "source": [
        "<a href=\"https://colab.research.google.com/github/DrDRUNKESTEIN/BASIC-DEEP-LEARNING/blob/main/DOG_BREED_CLASSIFICATION.ipynb\" target=\"_parent\"><img src=\"https://colab.research.google.com/assets/colab-badge.svg\" alt=\"Open In Colab\"/></a>"
      ]
    },
    {
      "cell_type": "code",
      "execution_count": 1,
      "metadata": {
        "id": "qGlz4oslUJE-",
        "colab": {
          "base_uri": "https://localhost:8080/"
        },
        "outputId": "f1020315-e42b-4020-ffda-9773b6d7ebe3"
      },
      "outputs": [
        {
          "output_type": "stream",
          "name": "stdout",
          "text": [
            "hi\n"
          ]
        }
      ],
      "source": [
        "\n",
        "print(\"hi\")"
      ]
    },
    {
      "cell_type": "code",
      "source": [
        "import tensorflow as tf\n",
        "import numpy as np\n",
        "import cv2\n",
        "import os\n",
        "train_image_folder=\"/content/drive/MyDrive/Colab Notebooks/train/\"\n",
        "import pandas as pd\n",
        "df=pd.read_csv(\"/content/labels.csv\")\n",
        "# print(df.describe())\n",
        "IMAGE_SIZE=(331,331)\n",
        "IMAGE_FULL_SIZE=(331,331,3)\n",
        "all_images=[]\n",
        "all_labels=[]\n",
        "for ix,(image_name,breed) in enumerate(df[['id','breed']].values):\n",
        "  img_dir=os.path.join(train_image_folder,image_name+'.jpg')\n",
        "  # print(img_dir)\n",
        "  img=cv2.imread(img_dir)\n",
        "  height=img.shape[0]\n",
        "  width=img.shape[1]\n",
        "  channels=img.shape[2]\n",
        "  # print (height, width, channels)\n",
        "  resized=cv2.resize(img,IMAGE_SIZE,interpolation= cv2.INTER_AREA)\n",
        "  all_images.append(resized)\n",
        "  all_labels.append(breed)\n",
        "\n",
        "print(len(all_images))\n",
        "print(len(all_labels))\n",
        "print(\"SAVE THE DATA\")\n",
        "np.save(\"/content/temp/allDogsImages.npy\",all_images)\n",
        "np.save(\"/content/temp/allLabels.npy\",all_labels)\n",
        "print(\"FINISHED\")"
      ],
      "metadata": {
        "id": "WTKA6KqfUjZS",
        "colab": {
          "base_uri": "https://localhost:8080/"
        },
        "outputId": "29e2e07d-b7c7-4224-b42f-80d8e9ecd86a"
      },
      "execution_count": 4,
      "outputs": [
        {
          "output_type": "stream",
          "name": "stdout",
          "text": [
            "10222\n",
            "10222\n",
            "SAVE THE DATA\n",
            "FINISHED\n"
          ]
        }
      ]
    },
    {
      "cell_type": "code",
      "source": [
        "from google.colab import drive\n",
        "drive.mount('/content/drive')"
      ],
      "metadata": {
        "colab": {
          "base_uri": "https://localhost:8080/"
        },
        "id": "mUP65yEkUVG7",
        "outputId": "9da72cff-e4f4-47d7-c353-d73f087b38c9"
      },
      "execution_count": null,
      "outputs": [
        {
          "output_type": "stream",
          "name": "stdout",
          "text": [
            "Mounted at /content/drive\n"
          ]
        }
      ]
    }
  ]
}